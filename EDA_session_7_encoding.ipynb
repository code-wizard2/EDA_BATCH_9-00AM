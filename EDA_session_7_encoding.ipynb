{
 "cells": [
  {
   "cell_type": "code",
   "execution_count": 1,
   "id": "8eff73ee",
   "metadata": {},
   "outputs": [],
   "source": [
    "import numpy as np\n",
    "import pandas as pd\n",
    "import matplotlib.pyplot as plt\n",
    "import seaborn as sns\n",
    "\n",
    "visa_df=pd.read_csv(r\"C:\\Users\\mohdb\\Documents\\naresh it\\eda\\Visadataset.csv\")\n",
    "\n",
    "cat_columns=visa_df.select_dtypes(include='object').columns\n",
    "num_columns=visa_df.select_dtypes(exclude='object').columns"
   ]
  },
  {
   "cell_type": "markdown",
   "id": "154cc18a",
   "metadata": {},
   "source": [
    "**encoding**\n",
    "\n",
    "- encoding means convert categorical columns data to numerical data\n",
    "\n",
    "- because it ml models expect the data should be in numerical format\n",
    "\n",
    "- ml models developed by math algorithms\n",
    "\n",
    "- it is very important to apply encoding\n",
    "\n",
    "- the following method are:\n",
    "    \n",
    "    - map\n",
    "    \n",
    "    - np.where\n",
    "    \n",
    "    - one hot encoding\n",
    "    \n",
    "    - lable encoder"
   ]
  },
  {
   "cell_type": "markdown",
   "id": "8668f6a6",
   "metadata": {},
   "source": [
    "$$maping$$"
   ]
  },
  {
   "cell_type": "markdown",
   "id": "e8f0c6f2",
   "metadata": {},
   "source": [
    "- map is one method to convert categorical values to numerical\n",
    "\n",
    "- take one categorical column\n",
    "\n",
    "- get the unique lables first\n",
    "\n",
    "- make a dectionry with assign a number to each lable\n",
    "\n",
    "- for example case_status has two lables\n",
    "\n",
    "    - certified\n",
    "    \n",
    "    - denied\n",
    "    \n",
    "- assign 0 to certified, 1 to denied\n",
    "\n",
    "- create a dictionary lables as keys, number as values only\n",
    "\n",
    "- {'certified:0,denied:1'}"
   ]
  },
  {
   "cell_type": "code",
   "execution_count": null,
   "id": "82acbbfd",
   "metadata": {},
   "outputs": [],
   "source": [
    "# step-1: read the column\n",
    "# step-2: get the unique lables\n",
    "# step-3: make a dictionary\n",
    "# step-4: apply the map"
   ]
  },
  {
   "cell_type": "code",
   "execution_count": null,
   "id": "193da1c8",
   "metadata": {},
   "outputs": [],
   "source": []
  }
 ],
 "metadata": {
  "kernelspec": {
   "display_name": "Python 3 (ipykernel)",
   "language": "python",
   "name": "python3"
  },
  "language_info": {
   "codemirror_mode": {
    "name": "ipython",
    "version": 3
   },
   "file_extension": ".py",
   "mimetype": "text/x-python",
   "name": "python",
   "nbconvert_exporter": "python",
   "pygments_lexer": "ipython3",
   "version": "3.11.7"
  }
 },
 "nbformat": 4,
 "nbformat_minor": 5
}
